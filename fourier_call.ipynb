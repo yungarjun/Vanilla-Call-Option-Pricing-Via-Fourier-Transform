{
 "cells": [
  {
   "cell_type": "markdown",
   "id": "09349afa",
   "metadata": {},
   "source": [
    "The price of a European call option on the underlying asset $S$ with strike $K$ and maturity $T$ is given by\n",
    "$$ C(S(0),K,T)=S(0)\\Pi_1−e^{−rT}K\\Pi_2 $$\n",
    "with $r$ the riskfree interest rate and\n",
    "$$ \\Pi_2=\\int_{\\ln K}^{\\infty}q_{\\beta}(x)dx=\\frac12+\\frac1{\\pi}\\int_0^{\\infty}\\Re\\left[\\frac{e^{−i\\omega \\ln K}\\phi_{\\beta}(\\omega)}{i\\omega}\\right]d\\omega $$\n",
    "and\n",
    "$$ \\Pi_1=\\int_{\\ln K}^{\\infty}q_{S}(x)dx=\\frac12+\\frac1{\\pi e^{rT}S(0)}\\int_0^{\\infty}\\Re\\left[\\frac{e^{−i\\omega \\ln K}\\phi_{\\beta}(\\omega-i)}{i\\omega}\\right]d\\omega $$ \n",
    "where\n",
    "$$ \\phi_{\\beta}(\\cdot) $$\n",
    "is the characteristic function of the distribution of the logarithmic asset price at time $T$ under the risk-neutral measure associated with taking the domestic savings account as the numeraire. In the Black/Scholes model, this characteristic function is\n",
    "$$ \\phi_{\\beta}(\\omega)=\\exp\\left\\{i\\omega\\overline{\\mu}−\\frac12\\omega^2\\overline{\\sigma}^2\\right\\} $$\n",
    "with\n",
    "\\begin{eqnarray*} \n",
    "\\overline{\\mu}&=&\\ln S(0)+rT−\\frac12\\sigma^2T \\\\\n",
    "\\overline{\\sigma}^2 &=& σ^2T\n",
    "\\end{eqnarray*}\n",
    "Note that the imaginary number $i$ is represented in Python as `1j`, and the real part of a complex number can be obtained using the NumPy function `real()`"
   ]
  },
  {
   "cell_type": "code",
   "execution_count": null,
   "id": "a6210989",
   "metadata": {},
   "outputs": [],
   "source": [
    "import numpy as np\n",
    "from scipy.integrate import quad\n",
    "\n",
    "def fouriercall(S, K, sigma, r, T, phi):\n",
    "    # Calculate parameters\n",
    "    mu_bar = np.log(S) + (r - 0.5 * sigma ** 2) * T\n",
    "    sigma_bar = sigma * np.sqrt(T)\n",
    "    \n",
    "    # Define integrand functions\n",
    "    integrand1 = lambda w: (np.exp(-1j * w * np.log(K)) * phi(w - 1j, mu_bar, sigma_bar) / (1j * w)).real\n",
    "    integrand2 = lambda w: (np.exp(-1j * w * np.log(K)) * phi(w, mu_bar, sigma_bar) / (1j * w)).real\n",
    "    \n",
    "    # Calculate Pi_1 and Pi_2\n",
    "    Pi_1 = 0.5 + (1 / (np.pi * S * np.exp(r * T))) * quad(integrand1, 0, np.inf)[0]\n",
    "    Pi_2 = 0.5 + (1 / np.pi) * quad(integrand2, 0, np.inf)[0]\n",
    "    \n",
    "    # Calculate call option price\n",
    "    call_price = S * Pi_1 - np.exp(-r * T) * K * Pi_2\n",
    "    \n",
    "    return call_price\n",
    "\n",
    "def phi(w, mu_bar, sigma_bar):\n",
    "    return np.exp(1j * w * mu_bar - 0.5 * (w * sigma_bar) ** 2)\n",
    "\n",
    "stock = float(input('Enter the underlying stock price: '))\n",
    "strike = float(input('Enter the strike price: '))\n",
    "sigma = float(input('Enter the volatility: '))\n",
    "interest = float(input('Enter continuously compounded interest rate: '))\n",
    "maturity = float(input('Enter the time to maturity: '))\n",
    "result = fouriercall(stock,strike,sigma,interest,maturity,phi)\n",
    "print('The option price is '+str(result))"
   ]
  }
 ],
 "metadata": {
  "kernelspec": {
   "display_name": "Python 3 (ipykernel)",
   "language": "python",
   "name": "python3"
  },
  "language_info": {
   "codemirror_mode": {
    "name": "ipython",
    "version": 3
   },
   "file_extension": ".py",
   "mimetype": "text/x-python",
   "name": "python",
   "nbconvert_exporter": "python",
   "pygments_lexer": "ipython3",
   "version": "3.9.13"
  }
 },
 "nbformat": 4,
 "nbformat_minor": 5
}
